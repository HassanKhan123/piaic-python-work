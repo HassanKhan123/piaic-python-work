{
 "cells": [
  {
   "cell_type": "code",
   "execution_count": 7,
   "metadata": {},
   "outputs": [
    {
     "name": "stdout",
     "output_type": "stream",
     "text": [
      "Enter your Maths Marks: 32\n",
      "Enter your English Marks: 31\n",
      "Enter your Urdu Marks: 31\n",
      "Your total marks are: 94\n",
      "You got 31.333333333333336%\n",
      "Sorry to say but you are fail\n"
     ]
    }
   ],
   "source": [
    "math=int(input(\"Enter your Maths Marks: \"))\n",
    "eng=int(input(\"Enter your English Marks: \"))\n",
    "urdu=int(input(\"Enter your Urdu Marks: \"))\n",
    "\n",
    "if(math < 0 or math > 100 or eng < 0 or eng > 100 or urdu < 0 or urdu > 100):\n",
    "    print(\"Please enter valid marks\")\n",
    "else:\n",
    "    total=math+eng+urdu\n",
    "    per=(total/300)*100\n",
    "    \n",
    "    \n",
    "    if(per >= 80):\n",
    "        print(\"Your total marks are: \"+str(total))\n",
    "        print(\"You got \"+str(per)+\"%\")\n",
    "        print(\"You got A-one grade\")\n",
    "        \n",
    "    elif(per >= 70):\n",
    "        print(\"Your total marks are: \"+str(total))\n",
    "        print(\"You got \"+str(per)+\"%\")\n",
    "        print(\"You got A grade\")\n",
    "        \n",
    "    elif(per >= 60):\n",
    "        print(\"Your total marks are: \"+str(total))\n",
    "        print(\"You got \"+str(per)+\"%\")\n",
    "        print(\"You got B grade\")\n",
    "        \n",
    "    elif(per >= 50):\n",
    "        print(\"Your total marks are: \"+str(total))\n",
    "        print(\"You got \"+str(per)+\"%\")\n",
    "        print(\"You got C grade\")\n",
    "        \n",
    "    elif(per >= 40):\n",
    "        print(\"Your total marks are: \"+str(total))\n",
    "        print(\"You got \"+str(per)+\"%\")\n",
    "        print(\"You got D grade\")\n",
    "        \n",
    "    else:\n",
    "        print(\"Your total marks are: \"+str(total))\n",
    "        print(\"You got \"+str(per)+\"%\")\n",
    "        print(\"Sorry to say but you are fail\")\n",
    "    \n",
    "\n"
   ]
  },
  {
   "cell_type": "code",
   "execution_count": null,
   "metadata": {},
   "outputs": [],
   "source": []
  }
 ],
 "metadata": {
  "kernelspec": {
   "display_name": "Python 3",
   "language": "python",
   "name": "python3"
  },
  "language_info": {
   "codemirror_mode": {
    "name": "ipython",
    "version": 3
   },
   "file_extension": ".py",
   "mimetype": "text/x-python",
   "name": "python",
   "nbconvert_exporter": "python",
   "pygments_lexer": "ipython3",
   "version": "3.7.3"
  }
 },
 "nbformat": 4,
 "nbformat_minor": 2
}
