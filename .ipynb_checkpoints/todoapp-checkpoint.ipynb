{
 "cells": [
  {
   "cell_type": "code",
   "execution_count": 50,
   "metadata": {},
   "outputs": [],
   "source": [
    "daily_tasks=['sehri','namaz','sleep','quran','iftaar']\n",
    "new_list=[]\n"
   ]
  },
  {
   "cell_type": "code",
   "execution_count": 56,
   "metadata": {},
   "outputs": [
    {
     "name": "stdout",
     "output_type": "stream",
     "text": [
      "Enter your task: a\n",
      "You have done all your tasks\n"
     ]
    }
   ],
   "source": [
    "user_input=input(\"Enter your task: \").lower()\n",
    "\n",
    "if(user_input in daily_tasks and len(daily_tasks) > 0):\n",
    "    value=daily_tasks.index(user_input)\n",
    "    user_input=daily_tasks.pop(value)\n",
    "    new_list.append(user_input)\n",
    "    print(daily_tasks)\n",
    "    print(new_list)\n",
    "    \n",
    "elif(len(daily_tasks) == 0):\n",
    "    print(\"You have done all your tasks\")\n",
    "    \n",
    "else:\n",
    "    print(\"Not in the list\")"
   ]
  },
  {
   "cell_type": "code",
   "execution_count": null,
   "metadata": {},
   "outputs": [],
   "source": []
  }
 ],
 "metadata": {
  "kernelspec": {
   "display_name": "Python 3",
   "language": "python",
   "name": "python3"
  },
  "language_info": {
   "codemirror_mode": {
    "name": "ipython",
    "version": 3
   },
   "file_extension": ".py",
   "mimetype": "text/x-python",
   "name": "python",
   "nbconvert_exporter": "python",
   "pygments_lexer": "ipython3",
   "version": "3.7.3"
  }
 },
 "nbformat": 4,
 "nbformat_minor": 2
}
